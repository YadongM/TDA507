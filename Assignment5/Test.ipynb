{
 "cells": [
  {
   "cell_type": "code",
   "execution_count": 17,
   "metadata": {},
   "outputs": [],
   "source": [
    "import numpy as np"
   ]
  },
  {
   "cell_type": "code",
   "execution_count": 98,
   "metadata": {},
   "outputs": [],
   "source": [
    "def read_file(pdb_path):\n",
    "    atom = []\n",
    "\n",
    "    with open(pdb_path, 'r', encoding=\"utf-8\") as f:\n",
    "        for line in f:\n",
    "            line = line.split()\n",
    "            if line[0] == 'ATOM' or line[0] == 'HETATM':\n",
    "                atom.append(line)\n",
    "    return np.array(atom)\n",
    "\n",
    "def cal_distance(atom1, atom2):\n",
    "    return np.sqrt(np.sum( (atom1 - atom2)**2 ))\n",
    "\n",
    "\n",
    "def overla_test(atom1, atom2):\n",
    "    ATOM_RADIUS = 2\n",
    "    if cal_distance(atom1, atom2) < ATOM_RADIUS*2:\n",
    "        return 1\n"
   ]
  },
  {
   "cell_type": "code",
   "execution_count": 105,
   "metadata": {},
   "outputs": [],
   "source": [
    "pdb_path1 = './1cdh.pdb'\n",
    "pdb_path2 = './2csn.pdb'\n",
    "\n",
    "all_atom1 = read_file(pdb_path1)\n",
    "all_atom2 = read_file(pdb_path2)\n",
    "position = all_atom2[:,[6,7,8]].astype(np.float64)"
   ]
  },
  {
   "cell_type": "code",
   "execution_count": 106,
   "metadata": {},
   "outputs": [
    {
     "data": {
      "text/plain": [
       "array([[-44.37 ,  50.928,  54.318],\n",
       "       [-43.885,  50.814,  55.72 ],\n",
       "       [-43.127,  52.114,  55.966],\n",
       "       ...,\n",
       "       [-28.854,  53.215,  40.004],\n",
       "       [-25.196,  45.753,  40.895],\n",
       "       [-24.871,  45.592,  53.298]])"
      ]
     },
     "execution_count": 106,
     "metadata": {},
     "output_type": "execute_result"
    }
   ],
   "source": [
    "position"
   ]
  },
  {
   "cell_type": "code",
   "execution_count": 107,
   "metadata": {},
   "outputs": [
    {
     "name": "stdout",
     "output_type": "stream",
     "text": [
      "Progress Rate 111.71%."
     ]
    }
   ],
   "source": [
    "\n",
    "\n",
    "cal_times = 0\n",
    "overlap_atom = []\n",
    "# progress_rate = 0\n",
    "\n",
    "\n",
    "for atom1 in all_atom1:\n",
    "    # progress_rate += 1\n",
    "    # print('\\r' + 'Progress Rate {:.2f}%.'.format(progress_rate/len(all_atom1) * 100), end='', flush=True)\n",
    "    for atom2 in all_atom2:\n",
    "        cal_times += 1\n",
    "        if overla_test(atom1[6:9].astype(np.float64), atom2[6:9].astype(np.float64)):\n",
    "            tmp = [atom1[1], atom1[3], atom1[5], atom1[11]]\n",
    "            overlap_atom.append(tmp)\n",
    "            break\n",
    "\n",
    "print('\\nNumber of clashing atoms: {}'.format(len(overlap_atom)))\n",
    "print('Number of comparisons: {}'.format(cal_times))"
   ]
  },
  {
   "cell_type": "code",
   "execution_count": 101,
   "metadata": {},
   "outputs": [
    {
     "data": {
      "text/plain": [
       "array([['ATOM', '1', 'N', ..., '1.00', '37.16', 'N'],\n",
       "       ['ATOM', '2', 'CA', ..., '1.00', '36.81', 'C'],\n",
       "       ['ATOM', '3', 'C', ..., '1.00', '35.86', 'C'],\n",
       "       ...,\n",
       "       ['HETATM', '1468', 'O', ..., '0.47', '18.71', 'O'],\n",
       "       ['HETATM', '1469', 'O', ..., '0.84', '39.02', 'O'],\n",
       "       ['HETATM', '1470', 'O', ..., '0.58', '28.09', 'O']], dtype='<U7')"
      ]
     },
     "execution_count": 101,
     "metadata": {},
     "output_type": "execute_result"
    }
   ],
   "source": [
    "all_atom1"
   ]
  }
 ],
 "metadata": {
  "interpreter": {
   "hash": "6470ab35df35ebd4cf3de3e5abd1100c6eb5d025eaaa656817d4545e0a1f6805"
  },
  "kernelspec": {
   "display_name": "Python 3.8.12 64-bit ('lab': conda)",
   "language": "python",
   "name": "python3"
  },
  "language_info": {
   "codemirror_mode": {
    "name": "ipython",
    "version": 3
   },
   "file_extension": ".py",
   "mimetype": "text/x-python",
   "name": "python",
   "nbconvert_exporter": "python",
   "pygments_lexer": "ipython3",
   "version": "3.8.12"
  },
  "orig_nbformat": 4
 },
 "nbformat": 4,
 "nbformat_minor": 2
}
