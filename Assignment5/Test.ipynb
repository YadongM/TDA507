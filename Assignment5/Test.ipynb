{
 "cells": [
  {
   "cell_type": "code",
   "execution_count": 1,
   "metadata": {},
   "outputs": [],
   "source": [
    "import numpy as np\n",
    "import sys\n",
    "ATOM_RADIUS = 2\n"
   ]
  },
  {
   "cell_type": "code",
   "execution_count": 3,
   "metadata": {},
   "outputs": [],
   "source": [
    "def read_file(pdb_path):\n",
    "    atom = []\n",
    "\n",
    "    with open(pdb_path, 'r', encoding=\"utf-8\") as f:\n",
    "        for line in f:\n",
    "            line = line.split()\n",
    "            if line[0] == 'ATOM' or line[0] == 'HETATM':\n",
    "                atom.append(line)\n",
    "    return np.array(atom)\n",
    "\n",
    "def cal_distance(atom1, atom2):\n",
    "    return np.sqrt(np.sum( (atom1 - atom2)**2 ))\n",
    "\n",
    "\n",
    "def overla_test(atom1, atom2, ATOM_RADIUS):\n",
    "    if cal_distance(atom1, atom2) < ATOM_RADIUS*2:\n",
    "        return 1\n"
   ]
  },
  {
   "cell_type": "code",
   "execution_count": 4,
   "metadata": {},
   "outputs": [],
   "source": [
    "def main():\n",
    "    # pdb_path1 = './1cdh.pdb'\n",
    "    # pdb_path2 = './2csn.pdb'\n",
    "    pdb_path1 = sys.argv[1]\n",
    "    pdb_path1 = sys.argv[2]\n",
    "\n",
    "    all_atom1 = read_file(pdb_path1)\n",
    "    all_atom2 = read_file(pdb_path2)\n",
    "    position = all_atom2[:,[6,7,8]].astype(np.float64)\n",
    "\n",
    "    cal_times = 0\n",
    "    overlap_atom = []\n",
    "\n",
    "\n",
    "    for atom1 in all_atom1:\n",
    "        x = float(atom1[6])\n",
    "        y = float(atom1[7])\n",
    "        z = float(atom1[8])\n",
    "\n",
    "        x_index = np.intersect1d( np.where(position[:, 0]>(x-ATOM_RADIUS*2))[0], np.where(position[:, 0]<(x+ATOM_RADIUS*2))[0] ) \n",
    "        y_index = np.intersect1d( np.where(position[:, 1]>(y-ATOM_RADIUS*2))[0], np.where(position[:, 1]<(y+ATOM_RADIUS*2))[0] ) \n",
    "        z_index = np.intersect1d( np.where(position[:, 2]>(z-ATOM_RADIUS*2))[0], np.where(position[:, 2]<(z+ATOM_RADIUS*2))[0] )\n",
    "        \n",
    "        _index = np.intersect1d(x_index, np.intersect1d(y_index,z_index))\n",
    "\n",
    "        for atom2 in all_atom2[_index]:\n",
    "            cal_times += 1\n",
    "            if overla_test(atom1[6:9].astype(np.float64), atom2[6:9].astype(np.float64), ATOM_RADIUS):\n",
    "                tmp = [atom1[1], atom1[3], atom1[5], atom1[11]]\n",
    "                overlap_atom.append(tmp)\n",
    "                break\n",
    "\n",
    "    print('\\nNumber of clashing atoms: {}'.format(len(overlap_atom)))\n",
    "    print('Number of comparisons: {}'.format(cal_times))"
   ]
  },
  {
   "cell_type": "code",
   "execution_count": null,
   "metadata": {},
   "outputs": [],
   "source": [
    "def main():\n",
    "    # pdb_path1 = './1cdh.pdb'\n",
    "    # pdb_path2 = './2csn.pdb'\n",
    "    pdb_path1 = sys.argv[1]\n",
    "    pdb_path1 = sys.argv[2]\n",
    "\n",
    "    all_atom1 = read_file(pdb_path1)\n",
    "    all_atom2 = read_file(pdb_path2)\n",
    "    position = all_atom2[:,[6,7,8]].astype(np.float64)\n",
    "\n",
    "    cal_times = 0\n",
    "    overlap_atom = []\n",
    "\n",
    "    for atom1 in all_atom1:\n",
    "        for atom2 in all_atom2:\n",
    "            cal_times += 1\n",
    "            if overla_test(atom1[6:9].astype(np.float64), atom2[6:9].astype(np.float64), ATOM_RADIUS):\n",
    "                tmp = [atom1[1], atom1[3], atom1[5], atom1[11]]\n",
    "                overlap_atom.append(tmp)\n",
    "                break\n",
    "\n",
    "    print('\\nNumber of clashing atoms: {}'.format(len(overlap_atom)))\n",
    "    print('Number of comparisons: {}'.format(cal_times))\n",
    "\n"
   ]
  }
 ],
 "metadata": {
  "interpreter": {
   "hash": "6470ab35df35ebd4cf3de3e5abd1100c6eb5d025eaaa656817d4545e0a1f6805"
  },
  "kernelspec": {
   "display_name": "Python 3.8.12 64-bit ('lab': conda)",
   "language": "python",
   "name": "python3"
  },
  "language_info": {
   "codemirror_mode": {
    "name": "ipython",
    "version": 3
   },
   "file_extension": ".py",
   "mimetype": "text/x-python",
   "name": "python",
   "nbconvert_exporter": "python",
   "pygments_lexer": "ipython3",
   "version": "3.8.12"
  },
  "orig_nbformat": 4
 },
 "nbformat": 4,
 "nbformat_minor": 2
}
