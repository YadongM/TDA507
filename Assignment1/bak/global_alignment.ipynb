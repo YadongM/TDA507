{
 "cells": [
  {
   "cell_type": "code",
   "execution_count": 41,
   "metadata": {},
   "outputs": [],
   "source": [
    "import numpy as np"
   ]
  },
  {
   "cell_type": "code",
   "execution_count": 42,
   "metadata": {},
   "outputs": [],
   "source": [
    "# set some parameter\n",
    "\n",
    "MATCH_SCORE = 2\n",
    "MISMATCH_SCORE = -1\n",
    "GAP_PENALTY = 2\n",
    "\n",
    "STOP = 0\n",
    "UP = 1\n",
    "LEFT = 2\n",
    "DIAG = 3"
   ]
  },
  {
   "cell_type": "code",
   "execution_count": 43,
   "metadata": {},
   "outputs": [],
   "source": [
    "X = 'ATCGAT'\n",
    "Y = 'ATACGT'\n",
    "\n",
    "F = np.zeros([len(X)+1, len(X)+1] )\n",
    "trace = np.zeros([len(X)+1, len(X)+1] )\n",
    "alignX = np.zeros(len(X)+10).tolist()\n",
    "alignY = np.zeros(len(X)+10).tolist()\n",
    "\n",
    "m = len(X)\n",
    "n = len(Y)\n",
    "\n",
    "\n",
    "for i in range(m):\n",
    "    i+=1\n",
    "    F[i][0] = F[i-1][0] - GAP_PENALTY\n",
    "    trace[i][0] = STOP\n",
    "\n",
    "for j in range(n):\n",
    "    j+=1\n",
    "    F[0][j] = F[0][j-1] - GAP_PENALTY\n",
    "    trace[0][j] = STOP"
   ]
  },
  {
   "cell_type": "code",
   "execution_count": 44,
   "metadata": {},
   "outputs": [],
   "source": [
    "for i in range(m):\n",
    "    i+=1\n",
    "    for j in range(n):\n",
    "        j+=1\n",
    "        if ( X[i-1]==Y[j-1] ):\n",
    "            score = F[i-1][j-1] + MATCH_SCORE\n",
    "        else:\n",
    "            score = F[i-1][j-1] + MISMATCH_SCORE;\n",
    "        trace[i][j] = DIAG;\n",
    "\n",
    "        tmp = F[i-1][j] - GAP_PENALTY\n",
    "        if (tmp>score):\n",
    "            score = tmp\n",
    "            trace[i][j] = UP\n",
    "\n",
    "        tmp = F[i][j-1] - GAP_PENALTY\n",
    "        if( tmp>score ):\n",
    "            score = tmp\n",
    "            trace[i][j] = LEFT\n",
    "        F[i][j] = score"
   ]
  },
  {
   "cell_type": "code",
   "execution_count": 45,
   "metadata": {},
   "outputs": [],
   "source": [
    "i = m\n",
    "j = n\n",
    "alignmentLength = 0\n",
    "\n",
    "while ( trace[i][j] != STOP ):\n",
    "    if trace[i][j] == DIAG:\n",
    "        alignX[alignmentLength] = X[i-1]\n",
    "        alignY[alignmentLength] = Y[j-1]\n",
    "        i-=1\n",
    "        j-=1\n",
    "        alignmentLength+=1\n",
    "        break\n",
    "    \n",
    "    if trace[i][j] == LEFT:\n",
    "        alignX[alignmentLength] = '-'\n",
    "        alignY[alignmentLength] = Y[j-1]\n",
    "        j-=1\n",
    "        alignmentLength+=1\n",
    "        break\n",
    "    \n",
    "    if trace[i][j] == UP:\n",
    "        alignX[alignmentLength] = X[i-1]\n",
    "        alignY[alignmentLength] = '-'\n",
    "        i-=1\n",
    "        alignmentLength+=1\n",
    "        break"
   ]
  },
  {
   "cell_type": "code",
   "execution_count": 46,
   "metadata": {},
   "outputs": [],
   "source": [
    "while ( i>0 ):\n",
    "\talignX[alignmentLength] = X[i-1]\n",
    "\talignY[alignmentLength] = '-'\n",
    "\ti-=1\n",
    "\talignmentLength+=1\n",
    "\n",
    "\n",
    "while ( j>0 ):\n",
    "\talignX[alignmentLength] = '-'\n",
    "\talignY[alignmentLength] = Y[j-1]\n",
    "\tj-=1\n",
    "\talignmentLength+=1\n",
    "\t"
   ]
  },
  {
   "cell_type": "code",
   "execution_count": 47,
   "metadata": {},
   "outputs": [
    {
     "name": "stdout",
     "output_type": "stream",
     "text": [
      "['T', 'A', 'G', 'C', 'T', 'A', '-', '-', '-', '-', '-', 0.0, 0.0, 0.0, 0.0, 0.0]\n",
      "['T', '-', '-', '-', '-', '-', 'G', 'C', 'A', 'T', 'A', 0.0, 0.0, 0.0, 0.0, 0.0]\n"
     ]
    }
   ],
   "source": [
    "print(alignX)\n",
    "print(alignY)"
   ]
  },
  {
   "cell_type": "code",
   "execution_count": null,
   "metadata": {},
   "outputs": [],
   "source": []
  }
 ],
 "metadata": {
  "interpreter": {
   "hash": "b3ba2566441a7c06988d0923437866b63cedc61552a5af99d1f4fb67d367b25f"
  },
  "kernelspec": {
   "display_name": "Python 3.8.8 64-bit ('base': conda)",
   "name": "python3"
  },
  "language_info": {
   "codemirror_mode": {
    "name": "ipython",
    "version": 3
   },
   "file_extension": ".py",
   "mimetype": "text/x-python",
   "name": "python",
   "nbconvert_exporter": "python",
   "pygments_lexer": "ipython3",
   "version": "3.8.8"
  },
  "orig_nbformat": 4
 },
 "nbformat": 4,
 "nbformat_minor": 2
}
