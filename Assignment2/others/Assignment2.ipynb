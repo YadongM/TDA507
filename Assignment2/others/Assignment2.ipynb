{
 "cells": [
  {
   "cell_type": "code",
   "execution_count": 1,
   "metadata": {},
   "outputs": [],
   "source": []
  },
  {
   "cell_type": "code",
   "execution_count": 112,
   "metadata": {},
   "outputs": [],
   "source": [
    "import sys\n",
    "import numpy as np\n",
    "\n",
    "\n",
    "def read_file(pdb_path):\n",
    "    lines_atom = []\n",
    "    with open(pdb_path, 'r', encoding=\"utf-8\") as f:\n",
    "        for line in f:\n",
    "            line = line.split()\n",
    "            if (line[0] == 'ATOM' and line[2] == 'CA'):\n",
    "                lines_atom.append(line)\n",
    "    return lines_atom\n",
    "\n",
    "def get_positions(line_atom):\n",
    "    lines_position = [line[6:9] for line in line_atom]\n",
    "    lines_position = np.array(lines_position).astype(float)\n",
    "\n",
    "    # lines_series = [line[1] for line in line_atom]\n",
    "    # lines_series = np.array(lines_series).astype(int)\n",
    "\n",
    "    lines_index = [line[5] for line in line_atom]\n",
    "    lines_index = np.array(lines_index).astype(int)\n",
    "\n",
    "    return lines_index, lines_position\n",
    "\n",
    "def cal_internal_contacts(lines_position, a, b, threshold=10):\n",
    "    num_internal = 0\n",
    "    for i in range(a, b-1):\n",
    "        for j in range(i+1, b):\n",
    "            _distance = np.sqrt(np.sum( (lines_position[i]-lines_position[j])**2 ))\n",
    "            if (i!=j and _distance<=threshold):\n",
    "                num_internal+=1\n",
    "    return num_internal\n",
    "\n",
    "def cal_external_contacts(lines_position, a, threshold=10):\n",
    "    num_external = 0\n",
    "    for i in range(0, a):\n",
    "        for j in range(a, len(lines_position)):\n",
    "            _distance = np.sqrt(np.sum( (lines_position[i]-lines_position[j])**2 ))\n",
    "            if (i!=j and _distance<=threshold):\n",
    "                num_external+=1\n",
    "    return num_external\n",
    "\n",
    "\n",
    "\n",
    "def cal_domak(lines_position):\n",
    "    scores_domak = []\n",
    "    max_score = 0\n",
    "    index = 0\n",
    "\n",
    "    for i in range(len(lines_position)):\n",
    "        i = i+1\n",
    "\n",
    "        int_A = cal_internal_contacts(lines_position, 0, i)\n",
    "        int_B = cal_internal_contacts(lines_position, i, len(lines_position))\n",
    "        ext_AB = cal_external_contacts(lines_position, i)\n",
    "        if ext_AB!=0:\n",
    "            _score_domak = (int_A/ext_AB) * (int_B/ext_AB)\n",
    "            scores_domak.append(_score_domak)\n",
    "\n",
    "            if max_score < _score_domak:\n",
    "                max_score = _score_domak\n",
    "                index = i\n",
    "\n",
    "    return scores_domak, max_score, index\n",
    "\n",
    "\n",
    "# pdb_path = sys.argv[1]\n",
    "pdb_path = './2csn.pdb'\n",
    "line_atom = read_file(pdb_path)\n",
    "lines_series, lines_position = get_positions(line_atom)\n",
    "scores_domak, max_score, index = cal_domak(lines_position)"
   ]
  },
  {
   "cell_type": "code",
   "execution_count": 117,
   "metadata": {},
   "outputs": [
    {
     "data": {
      "text/plain": [
       "120.11301939058171"
      ]
     },
     "execution_count": 117,
     "metadata": {},
     "output_type": "execute_result"
    }
   ],
   "source": [
    "max_score"
   ]
  },
  {
   "cell_type": "code",
   "execution_count": 115,
   "metadata": {},
   "outputs": [
    {
     "data": {
      "text/plain": [
       "82"
      ]
     },
     "execution_count": 115,
     "metadata": {},
     "output_type": "execute_result"
    }
   ],
   "source": [
    "index"
   ]
  },
  {
   "cell_type": "code",
   "execution_count": null,
   "metadata": {},
   "outputs": [],
   "source": []
  },
  {
   "cell_type": "code",
   "execution_count": null,
   "metadata": {},
   "outputs": [],
   "source": []
  },
  {
   "cell_type": "code",
   "execution_count": 8,
   "metadata": {},
   "outputs": [],
   "source": [
    "import sys\n",
    "import numpy as np\n",
    "\n",
    "\n",
    "def read_file(pdb_path):\n",
    "    lines_atom = []\n",
    "    with open(pdb_path, 'r', encoding=\"utf-8\") as f:\n",
    "        for line in f:\n",
    "            line = line.split()\n",
    "            if (line[0] == 'ATOM' and line[2] == 'CA'):\n",
    "                lines_atom.append(line)\n",
    "    return lines_atom\n",
    "\n",
    "def get_positions(line_atom):\n",
    "    lines_position = [line[6:9] for line in line_atom]\n",
    "    lines_position = np.array(lines_position).astype(float)\n",
    "\n",
    "    lines_index = [line[5] for line in line_atom]\n",
    "    lines_index = np.array(lines_index).astype(int)\n",
    "\n",
    "    return lines_index, lines_position\n",
    "\n",
    "def cal_distance(lines_index, lines_position, threshold=12):\n",
    "    pair = []\n",
    "    # all_distance = np.zeros([len(lines_position), len(lines_position)])\n",
    "    for i in range(len(lines_position)-1):\n",
    "        for j in range(i,len(lines_position)):\n",
    "            _distance = np.sqrt(np.sum( (lines_position[i]-lines_position[j])**2 ))\n",
    "            # all_distance[i][j] = _distance\n",
    "            if (i!=j and _distance<=threshold):\n",
    "                pair.append([lines_index[i], lines_index[j]])\n",
    "    return np.array(pair)\n",
    "\n",
    "# def main():\n",
    "#     # pdb_path = sys.argv[1]\n",
    "#     pdb_path = './2csn.pdb'\n",
    "#     lines_atom = read_file(pdb_path)\n",
    "#     lines_index, lines_position = get_positions(lines_atom)\n",
    "#     pair = cal_distance(lines_index, lines_position, threshold=10)\n",
    "#     np.savetxt('result.pair',pair, fmt=\"%d\")\n",
    "\n",
    "#     print('Done, Please check result.pair')\n",
    "\n",
    "\n",
    "# if __name__ == \"__main__\":\n",
    "#     main()"
   ]
  },
  {
   "cell_type": "code",
   "execution_count": 9,
   "metadata": {},
   "outputs": [
    {
     "data": {
      "text/plain": [
       "4052"
      ]
     },
     "execution_count": 9,
     "metadata": {},
     "output_type": "execute_result"
    }
   ],
   "source": [
    "pdb_path = './2csn.pdb'\n",
    "lines_atom = read_file(pdb_path)\n",
    "lines_index, lines_position = get_positions(lines_atom)\n",
    "pair = cal_distance(lines_index, lines_position)\n",
    "len(pair)"
   ]
  },
  {
   "cell_type": "code",
   "execution_count": 17,
   "metadata": {},
   "outputs": [
    {
     "name": "stdout",
     "output_type": "stream",
     "text": [
      "0\n",
      "1\n",
      "2\n",
      "3\n",
      "4\n",
      "5\n",
      "6\n",
      "7\n",
      "8\n",
      "9\n",
      "10\n",
      "11\n",
      "12\n",
      "13\n",
      "14\n",
      "15\n",
      "16\n",
      "17\n",
      "18\n",
      "19\n",
      "20\n",
      "21\n",
      "22\n",
      "23\n",
      "24\n"
     ]
    }
   ],
   "source": [
    "split_value = 0\n",
    "split_residue_index = 0\n",
    "i = 0\n",
    "\n",
    "\n",
    "scores = []\n",
    "num_score = 0\n",
    "for current in lines_index:\n",
    "    int_A = np.sum((pair[:,0]<=current) & (pair[:,1]<=current))\n",
    "    int_B = np.sum((pair[:,0]>=current) & (pair[:,1]>=current))\n",
    "    ext_AB = np.sum((pair[:,0]<=current) & (pair[:,1]>=current))\n",
    "\n",
    "    if ext_AB != 0:\n",
    "        _score = (int_A/ext_AB) * (int_B/ext_AB)\n",
    "        if split_value < _score:\n",
    "            split_value = _score\n",
    "            split_residue_index = current\n",
    "            print(num_score)\n",
    "            num_score += 1\n",
    "            scores.append(_score)\n"
   ]
  },
  {
   "cell_type": "code",
   "execution_count": 12,
   "metadata": {},
   "outputs": [
    {
     "data": {
      "text/plain": [
       "88"
      ]
     },
     "execution_count": 12,
     "metadata": {},
     "output_type": "execute_result"
    }
   ],
   "source": [
    "index"
   ]
  },
  {
   "cell_type": "code",
   "execution_count": null,
   "metadata": {},
   "outputs": [],
   "source": []
  }
 ],
 "metadata": {
  "interpreter": {
   "hash": "6470ab35df35ebd4cf3de3e5abd1100c6eb5d025eaaa656817d4545e0a1f6805"
  },
  "kernelspec": {
   "display_name": "Python 3.8.12 64-bit ('lab': conda)",
   "language": "python",
   "name": "python3"
  },
  "language_info": {
   "codemirror_mode": {
    "name": "ipython",
    "version": 3
   },
   "file_extension": ".py",
   "mimetype": "text/x-python",
   "name": "python",
   "nbconvert_exporter": "python",
   "pygments_lexer": "ipython3",
   "version": "3.8.12"
  },
  "orig_nbformat": 4
 },
 "nbformat": 4,
 "nbformat_minor": 2
}
