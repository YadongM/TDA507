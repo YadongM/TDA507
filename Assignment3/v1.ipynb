{
 "cells": [
  {
   "cell_type": "code",
   "execution_count": 14,
   "metadata": {},
   "outputs": [],
   "source": [
    "import sys\n",
    "import copy\n",
    "import numpy as np"
   ]
  },
  {
   "cell_type": "code",
   "execution_count": 15,
   "metadata": {},
   "outputs": [],
   "source": [
    "def read_file(text_path):\n",
    "    _tmp = []\n",
    "    with open(text_path, 'r', encoding=\"utf-8\") as f:\n",
    "        for line in f:\n",
    "            line = line.split()\n",
    "            _tmp.append(line)\n",
    "    return np.array(_tmp).astype(float)"
   ]
  },
  {
   "cell_type": "code",
   "execution_count": 25,
   "metadata": {},
   "outputs": [],
   "source": [
    "def find_relation_of_atom(lines):\n",
    "    atom_relation_dic = {}\n",
    "    beginnings = {}\n",
    "\n",
    "    # calculate the distance, \n",
    "    # and fit the atom index whoes distance between 3.7 and 3.9\n",
    "    for i in range(len(lines)):\n",
    "        _tmp = []\n",
    "        for j in range(len(lines)):\n",
    "            _distance = np.sqrt(np.sum( (lines[i][1:]-lines[j][1:])**2 ))\n",
    "            if (_distance<3.9) and (_distance>3.7):\n",
    "                _tmp.append(lines[j][0])\n",
    "        if len(_tmp) == 1:\n",
    "            beginnings[lines[i][0]] = _tmp\n",
    "        if len(_tmp) > 0:\n",
    "            atom_relation_dic[lines[i][0]] = _tmp\n",
    "\n",
    "    return atom_relation_dic, beginnings\n"
   ]
  },
  {
   "cell_type": "code",
   "execution_count": 17,
   "metadata": {},
   "outputs": [],
   "source": [
    "def list2dic(lines):\n",
    "    atom_dic = {}\n",
    "    for line in lines:\n",
    "        atom_dic[int(line[0])] = line[1:]\n",
    "    return atom_dic"
   ]
  },
  {
   "cell_type": "code",
   "execution_count": 54,
   "metadata": {},
   "outputs": [],
   "source": [
    "def cal_center_distance(atom_dic, atom_relation_dic):\n",
    "    center_distance = {}\n",
    "    for index in atom_relation_dic.keys():\n",
    "        _tmp = [0,0,0]\n",
    "        _tmp_len = len(atom_relation_dic[index])\n",
    "        _tmp_distance = []\n",
    "\n",
    "        for relate_atom in atom_relation_dic[index]:\n",
    "            _tmp += atom_dic[relate_atom]\n",
    "        center_posi = np.array(_tmp)/_tmp_len\n",
    "\n",
    "        for relate_atom in atom_relation_dic[index]:\n",
    "            _distance = np.sqrt(np.sum( ( atom_dic[relate_atom] - center_posi )**2 ))\n",
    "            _tmp_distance.append(_distance)\n",
    "        \n",
    "        center_distance[index] = _tmp_distance\n",
    "        \n",
    "        # closest_atom[index] = atom_relation_dic[index][np.array(_tmp_distance).argmin()]\n",
    "    return center_distance"
   ]
  },
  {
   "cell_type": "code",
   "execution_count": 55,
   "metadata": {},
   "outputs": [],
   "source": [
    "def find_most_relation_atom(center_distance, atom_relation_dic):\n",
    "    most_relation_atom = {}\n",
    "\n",
    "    for index in center_distance.keys():\n",
    "        _tmp = []\n",
    "\n",
    "        min_distance = np.min(np.array(center_distance[index]))\n",
    "        for _inx, _dist in enumerate(center_distance[index]):\n",
    "            if abs(_dist-min_distance)<1.2:\n",
    "                _tmp.append(int(atom_relation_dic[index][_inx]))\n",
    "\n",
    "        most_relation_atom[int(index)] = _tmp\n",
    "    \n",
    "    return most_relation_atom\n"
   ]
  },
  {
   "cell_type": "code",
   "execution_count": 19,
   "metadata": {},
   "outputs": [],
   "source": [
    "text_path = './data_q2.txt'\n",
    "lines = read_file(text_path)\n",
    "atom_dic = list2dic(lines)\n",
    "atom_relation_dic, beginnings = find_relation_of_atom(lines)\n",
    "# all_center_distance = cal_center_distance(atom_dic, atom_relation_dic)\n",
    "# most_relation_atom = find_most_relation_atom(all_center_distance, atom_relation_dic)"
   ]
  },
  {
   "cell_type": "code",
   "execution_count": 57,
   "metadata": {},
   "outputs": [],
   "source": [
    "def find_path(child, most_relation_atom,chain,chains):\n",
    "    # explored[child] = most_relation_atom[child]\n",
    "    _tmp_related_atom = most_relation_atom[child]\n",
    "    chain = copy.deepcopy(chain)\n",
    "    chain.append(child)\n",
    "\n",
    "    for _child in _tmp_related_atom:\n",
    "        if _child in chain:\n",
    "            _tmp_related_atom.remove(_child)\n",
    "        \n",
    "        if _child not in list(most_relation_atom.keys()):\n",
    "            _tmp_related_atom.remove(_child)\n",
    "    \n",
    "    if len(_tmp_related_atom) == 0:\n",
    "        chains.append(chain)\n",
    "        return\n",
    "\n",
    "    for child in _tmp_related_atom:\n",
    "        find_path(child, most_relation_atom,chain,chains)"
   ]
  },
  {
   "cell_type": "code",
   "execution_count": 20,
   "metadata": {},
   "outputs": [
    {
     "data": {
      "text/plain": [
       "35.26438968275466"
      ]
     },
     "execution_count": 20,
     "metadata": {},
     "output_type": "execute_result"
    }
   ],
   "source": [
    "import math\n",
    "def cal_angle(point_a, point_b, point_c):\n",
    "\n",
    "    a_x, b_x, c_x = point_a[0], point_b[0], point_c[0]\n",
    "    a_y, b_y, c_y = point_a[1], point_b[1], point_c[1]\n",
    "    a_z, b_z, c_z = point_a[2], point_b[2], point_c[2]\n",
    "\n",
    "    x1,y1,z1 = (a_x-b_x),(a_y-b_y),(a_z-b_z)\n",
    "    x2,y2,z2 = (c_x-b_x),(c_y-b_y),(c_z-b_z)\n",
    "\n",
    "\n",
    "    cos_b = (x1*x2 + y1*y2 + z1*z2) / (math.sqrt(x1**2 + y1**2 + z1**2) *(math.sqrt(x2**2 + y2**2 + z2**2)))\n",
    "    B = math.degrees(math.acos(cos_b))\n",
    "    return B\n",
    "\n",
    "cal_angle((1,1,1), (0,0,0), (1,0,1))"
   ]
  },
  {
   "cell_type": "code",
   "execution_count": 31,
   "metadata": {},
   "outputs": [],
   "source": [
    "def find_path_2(root, child1, atom_relation_dic, chain, chains, atom_dic):\n",
    "    _tmp_related_atom1 = atom_relation_dic[child1]\n",
    "\n",
    "    chain = copy.deepcopy(chain)\n",
    "    chain.append(child1)\n",
    "\n",
    "    for _child in _tmp_related_atom1:\n",
    "        if _child in chain:\n",
    "            _tmp_related_atom1.remove(_child)\n",
    "        \n",
    "        if _child not in list(atom_relation_dic.keys()):\n",
    "            _tmp_related_atom1.remove(_child)\n",
    "    \n",
    "    if len(_tmp_related_atom1) == 0:\n",
    "        chains.append(chain)\n",
    "        print(chain)\n",
    "        return\n",
    "\n",
    "    for child2 in _tmp_related_atom1:\n",
    "        _angle = cal_angle(atom_dic[root],atom_dic[child1],atom_dic[child2])\n",
    "        if (75 < _angle < 160) or (-105 < _angle < -20):\n",
    "            root = child1\n",
    "            child1 = child2\n",
    "            find_path_2(root, child1, atom_relation_dic, chain, chains, atom_dic)\n",
    "        "
   ]
  },
  {
   "cell_type": "code",
   "execution_count": 37,
   "metadata": {},
   "outputs": [
    {
     "name": "stdout",
     "output_type": "stream",
     "text": [
      "[25.0, 31.0]\n",
      "[35.0, 19.0, 4.0, 3.0, 16.0, 27.0, 54.0, 72.0, 70.0, 86.0, 142.0, 169.0, 158.0, 207.0, 242.0, 215.0, 202.0, 143.0, 163.0, 110.0, 152.0, 165.0, 104.0, 119.0, 174.0, 221.0, 211.0, 139.0]\n",
      "[35.0, 19.0, 4.0, 3.0, 16.0, 27.0, 54.0, 72.0, 70.0, 86.0, 142.0, 169.0, 158.0, 207.0, 242.0, 215.0, 202.0, 143.0, 163.0, 110.0, 152.0, 165.0, 104.0, 119.0, 174.0, 231.0, 229.0, 168.0, 94.0]\n",
      "[37.0, 49.0, 66.0, 64.0]\n",
      "[46.0, 81.0]\n",
      "[55.0, 38.0, 65.0, 59.0, 36.0, 29.0]\n",
      "[75.0, 66.0, 64.0]\n",
      "[87.0, 135.0, 134.0, 79.0, 71.0]\n",
      "[89.0, 97.0]\n",
      "[92.0, 158.0, 207.0, 242.0, 215.0, 202.0, 143.0, 163.0, 110.0, 152.0, 165.0, 104.0, 119.0, 174.0, 221.0, 211.0, 139.0]\n",
      "[92.0, 158.0, 207.0, 242.0, 215.0, 202.0, 143.0, 163.0, 110.0, 152.0, 165.0, 104.0, 119.0, 174.0, 231.0, 229.0, 168.0, 94.0]\n",
      "[93.0, 148.0, 174.0, 231.0, 229.0, 168.0, 94.0]\n",
      "[98.0, 115.0, 154.0, 176.0, 122.0, 145.0]\n",
      "[100.0, 99.0, 161.0, 179.0, 167.0, 118.0, 128.0]\n",
      "[101.0, 135.0, 134.0, 79.0, 71.0]\n",
      "[103.0, 144.0, 217.0, 189.0, 205.0, 223.0, 202.0, 143.0, 163.0, 110.0, 152.0, 165.0, 104.0, 119.0, 174.0, 221.0, 211.0, 139.0]\n",
      "[103.0, 144.0, 217.0, 189.0, 205.0, 223.0, 202.0, 143.0, 163.0, 110.0, 152.0, 165.0, 104.0, 119.0, 174.0, 231.0, 229.0, 168.0, 94.0]\n",
      "[109.0, 76.0, 53.0, 36.0, 29.0]\n",
      "[120.0, 124.0, 172.0, 159.0]\n",
      "[133.0, 124.0, 172.0, 159.0]\n",
      "[137.0, 213.0]\n",
      "[140.0, 146.0]\n",
      "[178.0, 164.0, 191.0]\n",
      "[185.0, 203.0, 177.0, 160.0, 117.0, 83.0, 69.0, 63.0, 39.0, 19.0, 4.0, 3.0, 16.0, 27.0, 54.0, 72.0, 70.0, 86.0, 142.0, 169.0, 158.0, 207.0, 242.0, 215.0, 202.0, 143.0, 163.0, 110.0, 152.0, 165.0, 104.0, 119.0, 174.0, 221.0, 211.0, 139.0]\n",
      "[185.0, 203.0, 177.0, 160.0, 117.0, 83.0, 69.0, 63.0, 39.0, 19.0, 4.0, 3.0, 16.0, 27.0, 54.0, 72.0, 70.0, 86.0, 142.0, 169.0, 158.0, 207.0, 242.0, 215.0, 202.0, 143.0, 163.0, 110.0, 152.0, 165.0, 104.0, 119.0, 174.0, 231.0, 229.0, 168.0, 94.0]\n",
      "[190.0, 201.0, 117.0, 83.0, 69.0, 63.0, 39.0, 19.0, 4.0, 3.0, 16.0, 27.0, 54.0, 72.0, 70.0, 86.0, 142.0, 169.0, 158.0, 207.0, 242.0, 215.0, 202.0, 143.0, 163.0, 110.0, 152.0, 165.0, 104.0, 119.0, 174.0, 221.0, 211.0, 139.0]\n",
      "[190.0, 201.0, 117.0, 83.0, 69.0, 63.0, 39.0, 19.0, 4.0, 3.0, 16.0, 27.0, 54.0, 72.0, 70.0, 86.0, 142.0, 169.0, 158.0, 207.0, 242.0, 215.0, 202.0, 143.0, 163.0, 110.0, 152.0, 165.0, 104.0, 119.0, 174.0, 231.0, 229.0, 168.0, 94.0]\n",
      "[200.0, 134.0, 79.0, 71.0]\n",
      "[204.0, 135.0, 134.0, 79.0, 71.0]\n",
      "[206.0, 222.0]\n",
      "[208.0, 161.0, 179.0, 167.0, 118.0, 128.0]\n",
      "[210.0, 176.0, 122.0, 145.0]\n",
      "[216.0, 160.0, 117.0, 83.0, 69.0, 63.0, 39.0, 19.0, 4.0, 3.0, 16.0, 27.0, 54.0, 72.0, 70.0, 86.0, 142.0, 169.0, 158.0, 207.0, 242.0, 215.0, 202.0, 143.0, 163.0, 110.0, 152.0, 165.0, 104.0, 119.0, 174.0, 221.0, 211.0, 139.0]\n",
      "[216.0, 160.0, 117.0, 83.0, 69.0, 63.0, 39.0, 19.0, 4.0, 3.0, 16.0, 27.0, 54.0, 72.0, 70.0, 86.0, 142.0, 169.0, 158.0, 207.0, 242.0, 215.0, 202.0, 143.0, 163.0, 110.0, 152.0, 165.0, 104.0, 119.0, 174.0, 231.0, 229.0, 168.0, 94.0]\n",
      "[226.0, 180.0, 118.0, 128.0]\n",
      "[240.0, 219.0, 262.0, 250.0, 245.0, 196.0, 187.0]\n",
      "[251.0, 280.0, 276.0]\n",
      "[258.0, 265.0]\n",
      "[259.0, 299.0, 297.0, 322.0, 320.0, 307.0, 255.0, 234.0, 165.0, 104.0, 119.0, 174.0, 221.0, 211.0, 139.0]\n",
      "[259.0, 299.0, 297.0, 322.0, 320.0, 307.0, 255.0, 234.0, 165.0, 104.0, 119.0, 174.0, 231.0, 229.0, 168.0, 94.0]\n",
      "[260.0, 223.0, 202.0, 143.0, 163.0, 110.0, 152.0, 165.0, 104.0, 119.0, 174.0, 221.0, 211.0, 139.0]\n",
      "[260.0, 223.0, 202.0, 143.0, 163.0, 110.0, 152.0, 165.0, 104.0, 119.0, 174.0, 231.0, 229.0, 168.0, 94.0]\n",
      "[264.0, 285.0, 269.0]\n",
      "[264.0, 285.0, 308.0, 280.0, 241.0, 177.0, 160.0, 117.0, 83.0, 69.0, 63.0, 39.0, 19.0, 4.0, 3.0, 16.0, 27.0, 54.0, 72.0, 70.0, 86.0, 142.0, 169.0, 158.0, 207.0, 242.0, 215.0, 202.0, 143.0, 163.0, 110.0, 152.0, 165.0, 104.0, 119.0, 174.0, 221.0, 211.0, 139.0]\n",
      "[264.0, 285.0, 308.0, 280.0, 241.0, 177.0, 160.0, 117.0, 83.0, 69.0, 63.0, 39.0, 19.0, 4.0, 3.0, 16.0, 27.0, 54.0, 72.0, 70.0, 86.0, 142.0, 169.0, 158.0, 207.0, 242.0, 215.0, 202.0, 143.0, 163.0, 110.0, 152.0, 165.0, 104.0, 119.0, 174.0, 231.0, 229.0, 168.0, 94.0]\n",
      "[267.0, 257.0, 220.0, 187.0]\n",
      "[278.0, 279.0, 304.0]\n",
      "[281.0, 250.0, 245.0, 196.0, 187.0]\n",
      "[282.0, 245.0, 196.0, 187.0]\n",
      "[283.0, 295.0, 284.0, 257.0, 220.0, 187.0]\n",
      "[287.0, 289.0]\n",
      "[293.0, 319.0]\n",
      "[302.0, 324.0]\n",
      "[310.0, 325.0]\n",
      "[312.0, 313.0]\n",
      "[326.0, 306.0, 279.0, 304.0]\n"
     ]
    },
    {
     "data": {
      "text/plain": [
       "40"
      ]
     },
     "execution_count": 37,
     "metadata": {},
     "output_type": "execute_result"
    }
   ],
   "source": [
    "text_path = './data_q2.txt'\n",
    "lines = read_file(text_path)\n",
    "atom_dic = list2dic(lines)\n",
    "atom_relation_dic, beginnings = find_relation_of_atom(lines)\n",
    "\n",
    "chains = []\n",
    "\n",
    "for child1 in beginnings.keys():\n",
    "    chain = []\n",
    "    chain.append(child1)\n",
    "\n",
    "    for child2 in atom_relation_dic[child1]:\n",
    "        if (child2 not in chain) and (child2 in atom_relation_dic.keys()):\n",
    "            find_path_2(child1, child2, atom_relation_dic, chain, chains, atom_dic)\n",
    "\n",
    "len_chain = []\n",
    "for chain in chains:\n",
    "    len_chain.append(len(chain))\n",
    "\n",
    "np.max(len_chain)"
   ]
  },
  {
   "cell_type": "code",
   "execution_count": null,
   "metadata": {},
   "outputs": [],
   "source": []
  },
  {
   "cell_type": "code",
   "execution_count": null,
   "metadata": {},
   "outputs": [],
   "source": []
  },
  {
   "cell_type": "code",
   "execution_count": 93,
   "metadata": {},
   "outputs": [
    {
     "name": "stdout",
     "output_type": "stream",
     "text": [
      "20.0\n",
      "9\n",
      "32\n",
      "15\n",
      "44\n",
      "62\n",
      "63\n",
      "69\n",
      "83\n",
      "117\n",
      "160\n",
      "177\n",
      "203\n",
      "237\n",
      "256\n",
      "266\n",
      "301\n",
      "294\n",
      "243\n",
      "236\n",
      "227\n",
      "205\n",
      "223\n",
      "273\n",
      "262\n",
      "215\n",
      "181\n",
      "116\n",
      "106\n",
      "184\n",
      "207\n",
      "129\n",
      "158\n",
      "169\n",
      "142\n",
      "86\n",
      "70\n",
      "72\n",
      "54\n",
      "27\n",
      "16\n",
      "3\n",
      "4\n",
      "The total number of alpha-carbon atoms in the chain 43\n"
     ]
    }
   ],
   "source": [
    "chains = []\n",
    "for start in beginnings.keys():\n",
    "    find_path(start, most_relation_atom,[],chains)\n",
    "len_chain = []\n",
    "\n",
    "for chain in chains:\n",
    "    len_chain.append(len(chain))\n",
    "\n",
    "for atom in chains[np.argmax(len_chain)]:\n",
    "    print(atom)\n",
    "print(\"The total number of alpha-carbon atoms in the chain {}\".format(np.max(len_chain)))"
   ]
  },
  {
   "cell_type": "code",
   "execution_count": null,
   "metadata": {},
   "outputs": [],
   "source": []
  },
  {
   "cell_type": "code",
   "execution_count": null,
   "metadata": {},
   "outputs": [],
   "source": []
  },
  {
   "cell_type": "code",
   "execution_count": 97,
   "metadata": {},
   "outputs": [
    {
     "data": {
      "text/plain": [
       "43"
      ]
     },
     "execution_count": 97,
     "metadata": {},
     "output_type": "execute_result"
    }
   ],
   "source": [
    "\n"
   ]
  },
  {
   "cell_type": "code",
   "execution_count": 84,
   "metadata": {},
   "outputs": [
    {
     "data": {
      "text/plain": [
       "43"
      ]
     },
     "execution_count": 84,
     "metadata": {},
     "output_type": "execute_result"
    }
   ],
   "source": [
    "chains = []\n",
    "for start in beginnings.keys():\n",
    "    find_path(start, most_relation_atom,[],chains)\n",
    "len_chain = []\n",
    "\n",
    "for chain in chains:\n",
    "    len_chain.append(len(chain))\n",
    "\n",
    "np.max(len_chain)"
   ]
  },
  {
   "cell_type": "code",
   "execution_count": 71,
   "metadata": {},
   "outputs": [
    {
     "data": {
      "text/plain": [
       "48"
      ]
     },
     "execution_count": 71,
     "metadata": {},
     "output_type": "execute_result"
    }
   ],
   "source": [
    "for chain in chains:\n",
    "    len_chain.append(len(chain))\n",
    "\n",
    "np.max(len_chain)"
   ]
  },
  {
   "cell_type": "code",
   "execution_count": null,
   "metadata": {},
   "outputs": [],
   "source": []
  },
  {
   "cell_type": "code",
   "execution_count": null,
   "metadata": {},
   "outputs": [],
   "source": []
  },
  {
   "cell_type": "code",
   "execution_count": null,
   "metadata": {},
   "outputs": [],
   "source": []
  },
  {
   "cell_type": "code",
   "execution_count": null,
   "metadata": {},
   "outputs": [],
   "source": []
  },
  {
   "cell_type": "code",
   "execution_count": null,
   "metadata": {},
   "outputs": [],
   "source": []
  },
  {
   "cell_type": "code",
   "execution_count": null,
   "metadata": {},
   "outputs": [],
   "source": []
  },
  {
   "cell_type": "code",
   "execution_count": null,
   "metadata": {},
   "outputs": [],
   "source": []
  },
  {
   "cell_type": "code",
   "execution_count": null,
   "metadata": {},
   "outputs": [],
   "source": []
  },
  {
   "cell_type": "code",
   "execution_count": null,
   "metadata": {},
   "outputs": [],
   "source": []
  },
  {
   "cell_type": "code",
   "execution_count": null,
   "metadata": {},
   "outputs": [],
   "source": [
    "def find_most_relation_atom(center_distance, atom_relation_dic):\n",
    "    most_relation_atom = {}\n",
    "\n",
    "    for index in center_distance.keys():\n",
    "        _tmp = []\n",
    "\n",
    "        min_distance = np.min(np.array(center_distance[index]))\n",
    "        for _inx, _dist in enumerate(center_distance[index]):\n",
    "            if abs(_dist-min_distance)<1.2:\n",
    "                _tmp.append(int(atom_relation_dic[index][_inx]))\n",
    "\n",
    "        most_relation_atom[int(index)] = _tmp\n",
    "    \n",
    "    return most_relation_atom"
   ]
  },
  {
   "cell_type": "code",
   "execution_count": null,
   "metadata": {},
   "outputs": [],
   "source": [
    "def dfs(chain, child, atom_relation_dic):\n",
    "    chain = copy.deepcopy(chain)\n",
    "    \n",
    "    if child not in chain:\n",
    "        chain.append(child) \n",
    "        print(chain)\n",
    "\n",
    "        if child not in list(atom_relation_dic.keys()):\n",
    "            return\n",
    "\n",
    "        elif set(atom_relation_dic[child]) < set(chain):\n",
    "            return\n",
    "\n",
    "        else:\n",
    "            root = child\n",
    "            for child in atom_relation_dic[root]:\n",
    "                dfs(chain, child, most_relation_atom)\n",
    "    else:return"
   ]
  }
 ],
 "metadata": {
  "interpreter": {
   "hash": "19fbacc1b9439416659d5e659cddb36be965b2ae2acde034ab804061dd75cdb9"
  },
  "kernelspec": {
   "display_name": "Python 3.9.6 64-bit",
   "language": "python",
   "name": "python3"
  },
  "language_info": {
   "codemirror_mode": {
    "name": "ipython",
    "version": 3
   },
   "file_extension": ".py",
   "mimetype": "text/x-python",
   "name": "python",
   "nbconvert_exporter": "python",
   "pygments_lexer": "ipython3",
   "version": "3.9.6"
  },
  "orig_nbformat": 4
 },
 "nbformat": 4,
 "nbformat_minor": 2
}
