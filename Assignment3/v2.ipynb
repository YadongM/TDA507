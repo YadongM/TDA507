{
 "cells": [
  {
   "cell_type": "code",
   "execution_count": 1,
   "metadata": {},
   "outputs": [],
   "source": [
    "import sys\n",
    "import copy\n",
    "import numpy as np"
   ]
  },
  {
   "cell_type": "code",
   "execution_count": 2,
   "metadata": {},
   "outputs": [],
   "source": [
    "def read_file(text_path):\n",
    "    _tmp = []\n",
    "    with open(text_path, 'r', encoding=\"utf-8\") as f:\n",
    "        for line in f:\n",
    "            line = line.split()\n",
    "            _tmp.append(line)\n",
    "    return np.array(_tmp).astype(float)"
   ]
  },
  {
   "cell_type": "code",
   "execution_count": 3,
   "metadata": {},
   "outputs": [],
   "source": [
    "def find_relation_of_atom(lines):\n",
    "    atom_relation_dic = {}\n",
    "    beginnings = {}\n",
    "\n",
    "    # calculate the distance, \n",
    "    # and fit the atom index whoes distance between 3.7 and 3.9\n",
    "    for i in range(len(lines)):\n",
    "        _tmp = []\n",
    "        for j in range(len(lines)):\n",
    "            _distance = np.sqrt(np.sum( (lines[i][1:]-lines[j][1:])**2 ))\n",
    "            if (_distance<3.9) and (_distance>3.7):\n",
    "                _tmp.append(lines[j][0])\n",
    "        if len(_tmp) == 1:\n",
    "            beginnings[lines[i][0]] = _tmp\n",
    "        if len(_tmp) > 0:\n",
    "            atom_relation_dic[lines[i][0]] = _tmp\n",
    "\n",
    "    return atom_relation_dic, beginnings\n"
   ]
  },
  {
   "cell_type": "code",
   "execution_count": 4,
   "metadata": {},
   "outputs": [],
   "source": [
    "def list2dic(lines):\n",
    "    atom_dic = {}\n",
    "    for line in lines:\n",
    "        atom_dic[int(line[0])] = line[1:]\n",
    "    return atom_dic"
   ]
  },
  {
   "cell_type": "code",
   "execution_count": 5,
   "metadata": {},
   "outputs": [],
   "source": [
    "text_path = './data_q2.txt'\n",
    "lines = read_file(text_path)\n",
    "atom_dic = list2dic(lines)\n",
    "atom_relation_dic, beginnings = find_relation_of_atom(lines)"
   ]
  },
  {
   "cell_type": "code",
   "execution_count": 6,
   "metadata": {},
   "outputs": [],
   "source": [
    "def dfs(chain, child, atom_relation_dic):\n",
    "    chain = copy.deepcopy(chain)\n",
    "    if child not in chain:\n",
    "        chain.append(child) \n",
    "\n",
    "        if child not in list(atom_relation_dic.keys()):\n",
    "            return\n",
    "\n",
    "        elif set(atom_relation_dic[child]) < set(chain):\n",
    "            return\n",
    "\n",
    "        else:\n",
    "            root = child\n",
    "            for child in atom_relation_dic[root]:\n",
    "                dfs(chain, child, atom_relation_dic)"
   ]
  },
  {
   "cell_type": "code",
   "execution_count": 7,
   "metadata": {},
   "outputs": [
    {
     "name": "stdout",
     "output_type": "stream",
     "text": [
      "6.0\n",
      "12.0\n",
      "20.0\n",
      "25.0\n",
      "30.0\n",
      "34.0\n",
      "35.0\n",
      "37.0\n",
      "41.0\n",
      "46.0\n",
      "55.0\n",
      "64.0\n",
      "68.0\n",
      "75.0\n",
      "81.0\n",
      "85.0\n",
      "87.0\n",
      "89.0\n",
      "91.0\n",
      "92.0\n",
      "93.0\n",
      "94.0\n",
      "97.0\n",
      "98.0\n",
      "100.0\n",
      "101.0\n",
      "103.0\n",
      "109.0\n",
      "113.0\n",
      "120.0\n",
      "128.0\n",
      "133.0\n",
      "136.0\n",
      "137.0\n",
      "138.0\n",
      "139.0\n",
      "140.0\n",
      "141.0\n",
      "145.0\n",
      "146.0\n",
      "156.0\n",
      "157.0\n",
      "159.0\n",
      "170.0\n",
      "175.0\n",
      "178.0\n",
      "185.0\n",
      "188.0\n",
      "190.0\n",
      "191.0\n",
      "193.0\n",
      "198.0\n",
      "199.0\n",
      "200.0\n",
      "204.0\n",
      "206.0\n",
      "208.0\n",
      "210.0\n",
      "213.0\n",
      "216.0\n",
      "222.0\n",
      "225.0\n",
      "226.0\n",
      "235.0\n",
      "240.0\n",
      "251.0\n",
      "254.0\n",
      "258.0\n",
      "259.0\n",
      "260.0\n",
      "264.0\n",
      "265.0\n",
      "267.0\n",
      "268.0\n",
      "269.0\n",
      "270.0\n",
      "276.0\n",
      "278.0\n",
      "281.0\n",
      "282.0\n",
      "283.0\n",
      "287.0\n",
      "289.0\n",
      "290.0\n",
      "293.0\n",
      "302.0\n",
      "304.0\n",
      "310.0\n",
      "312.0\n",
      "313.0\n",
      "315.0\n",
      "319.0\n",
      "324.0\n",
      "325.0\n",
      "326.0\n"
     ]
    }
   ],
   "source": [
    "for start in beginnings.keys():\n",
    "    print(start)\n",
    "    sorted = []\n",
    "    chain = []\n",
    "    chain.append(start)\n",
    "    sorted.append(start)\n",
    "\n",
    "    dfs(chain, start, atom_relation_dic)"
   ]
  },
  {
   "cell_type": "code",
   "execution_count": null,
   "metadata": {},
   "outputs": [],
   "source": []
  },
  {
   "cell_type": "code",
   "execution_count": null,
   "metadata": {},
   "outputs": [],
   "source": []
  },
  {
   "cell_type": "code",
   "execution_count": null,
   "metadata": {},
   "outputs": [],
   "source": []
  },
  {
   "cell_type": "code",
   "execution_count": null,
   "metadata": {},
   "outputs": [],
   "source": []
  },
  {
   "cell_type": "code",
   "execution_count": null,
   "metadata": {},
   "outputs": [],
   "source": []
  },
  {
   "cell_type": "code",
   "execution_count": null,
   "metadata": {},
   "outputs": [],
   "source": []
  },
  {
   "cell_type": "code",
   "execution_count": null,
   "metadata": {},
   "outputs": [],
   "source": []
  },
  {
   "cell_type": "code",
   "execution_count": null,
   "metadata": {},
   "outputs": [],
   "source": []
  },
  {
   "cell_type": "code",
   "execution_count": null,
   "metadata": {},
   "outputs": [],
   "source": []
  }
 ],
 "metadata": {
  "interpreter": {
   "hash": "19fbacc1b9439416659d5e659cddb36be965b2ae2acde034ab804061dd75cdb9"
  },
  "kernelspec": {
   "display_name": "Python 3.9.6 64-bit",
   "language": "python",
   "name": "python3"
  },
  "language_info": {
   "codemirror_mode": {
    "name": "ipython",
    "version": 3
   },
   "file_extension": ".py",
   "mimetype": "text/x-python",
   "name": "python",
   "nbconvert_exporter": "python",
   "pygments_lexer": "ipython3",
   "version": "3.9.6"
  },
  "orig_nbformat": 4
 },
 "nbformat": 4,
 "nbformat_minor": 2
}
